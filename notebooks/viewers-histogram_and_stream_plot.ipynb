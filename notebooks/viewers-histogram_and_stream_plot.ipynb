{
 "cells": [
  {
   "cell_type": "code",
   "execution_count": 1,
   "metadata": {},
   "outputs": [],
   "source": [
    "import pandas as pd\n",
    "import numpy as np\n",
    "import matplotlib.pyplot as plt\n",
    "import altair as alt"
   ]
  },
  {
   "cell_type": "code",
   "execution_count": 2,
   "metadata": {},
   "outputs": [],
   "source": [
    "# read in data\n",
    "df = pd.read_csv('./data/simpsons_episodes.csv')"
   ]
  },
  {
   "cell_type": "code",
   "execution_count": 3,
   "metadata": {},
   "outputs": [
    {
     "name": "stdout",
     "output_type": "stream",
     "text": [
      "(600, 13)\n"
     ]
    },
    {
     "data": {
      "text/html": [
       "<div>\n",
       "<style scoped>\n",
       "    .dataframe tbody tr th:only-of-type {\n",
       "        vertical-align: middle;\n",
       "    }\n",
       "\n",
       "    .dataframe tbody tr th {\n",
       "        vertical-align: top;\n",
       "    }\n",
       "\n",
       "    .dataframe thead th {\n",
       "        text-align: right;\n",
       "    }\n",
       "</style>\n",
       "<table border=\"1\" class=\"dataframe\">\n",
       "  <thead>\n",
       "    <tr style=\"text-align: right;\">\n",
       "      <th></th>\n",
       "      <th>id</th>\n",
       "      <th>title</th>\n",
       "      <th>original_air_date</th>\n",
       "      <th>production_code</th>\n",
       "      <th>season</th>\n",
       "      <th>number_in_season</th>\n",
       "      <th>number_in_series</th>\n",
       "      <th>us_viewers_in_millions</th>\n",
       "      <th>views</th>\n",
       "      <th>imdb_rating</th>\n",
       "      <th>imdb_votes</th>\n",
       "      <th>image_url</th>\n",
       "      <th>video_url</th>\n",
       "    </tr>\n",
       "  </thead>\n",
       "  <tbody>\n",
       "    <tr>\n",
       "      <th>0</th>\n",
       "      <td>10</td>\n",
       "      <td>Homer's Night Out</td>\n",
       "      <td>1990-03-25</td>\n",
       "      <td>7G10</td>\n",
       "      <td>1</td>\n",
       "      <td>10</td>\n",
       "      <td>10</td>\n",
       "      <td>30.3</td>\n",
       "      <td>50816.0</td>\n",
       "      <td>7.4</td>\n",
       "      <td>1511.0</td>\n",
       "      <td>http://static-media.fxx.com/img/FX_Networks_-_...</td>\n",
       "      <td>http://www.simpsonsworld.com/video/275197507879</td>\n",
       "    </tr>\n",
       "    <tr>\n",
       "      <th>1</th>\n",
       "      <td>12</td>\n",
       "      <td>Krusty Gets Busted</td>\n",
       "      <td>1990-04-29</td>\n",
       "      <td>7G12</td>\n",
       "      <td>1</td>\n",
       "      <td>12</td>\n",
       "      <td>12</td>\n",
       "      <td>30.4</td>\n",
       "      <td>62561.0</td>\n",
       "      <td>8.3</td>\n",
       "      <td>1716.0</td>\n",
       "      <td>http://static-media.fxx.com/img/FX_Networks_-_...</td>\n",
       "      <td>http://www.simpsonsworld.com/video/288019523914</td>\n",
       "    </tr>\n",
       "    <tr>\n",
       "      <th>2</th>\n",
       "      <td>14</td>\n",
       "      <td>Bart Gets an \"F\"</td>\n",
       "      <td>1990-10-11</td>\n",
       "      <td>7F03</td>\n",
       "      <td>2</td>\n",
       "      <td>1</td>\n",
       "      <td>14</td>\n",
       "      <td>33.6</td>\n",
       "      <td>59575.0</td>\n",
       "      <td>8.2</td>\n",
       "      <td>1638.0</td>\n",
       "      <td>http://static-media.fxx.com/img/FX_Networks_-_...</td>\n",
       "      <td>http://www.simpsonsworld.com/video/260539459671</td>\n",
       "    </tr>\n",
       "    <tr>\n",
       "      <th>3</th>\n",
       "      <td>17</td>\n",
       "      <td>Two Cars in Every Garage and Three Eyes on Eve...</td>\n",
       "      <td>1990-11-01</td>\n",
       "      <td>7F01</td>\n",
       "      <td>2</td>\n",
       "      <td>4</td>\n",
       "      <td>17</td>\n",
       "      <td>26.1</td>\n",
       "      <td>64959.0</td>\n",
       "      <td>8.1</td>\n",
       "      <td>1457.0</td>\n",
       "      <td>http://static-media.fxx.com/img/FX_Networks_-_...</td>\n",
       "      <td>http://www.simpsonsworld.com/video/260537411822</td>\n",
       "    </tr>\n",
       "    <tr>\n",
       "      <th>4</th>\n",
       "      <td>19</td>\n",
       "      <td>Dead Putting Society</td>\n",
       "      <td>1990-11-15</td>\n",
       "      <td>7F08</td>\n",
       "      <td>2</td>\n",
       "      <td>6</td>\n",
       "      <td>19</td>\n",
       "      <td>25.4</td>\n",
       "      <td>50691.0</td>\n",
       "      <td>8.0</td>\n",
       "      <td>1366.0</td>\n",
       "      <td>http://static-media.fxx.com/img/FX_Networks_-_...</td>\n",
       "      <td>http://www.simpsonsworld.com/video/260539459670</td>\n",
       "    </tr>\n",
       "  </tbody>\n",
       "</table>\n",
       "</div>"
      ],
      "text/plain": [
       "   id                                              title original_air_date  \\\n",
       "0  10                                  Homer's Night Out        1990-03-25   \n",
       "1  12                                 Krusty Gets Busted        1990-04-29   \n",
       "2  14                                   Bart Gets an \"F\"        1990-10-11   \n",
       "3  17  Two Cars in Every Garage and Three Eyes on Eve...        1990-11-01   \n",
       "4  19                               Dead Putting Society        1990-11-15   \n",
       "\n",
       "  production_code  season  number_in_season  number_in_series  \\\n",
       "0            7G10       1                10                10   \n",
       "1            7G12       1                12                12   \n",
       "2            7F03       2                 1                14   \n",
       "3            7F01       2                 4                17   \n",
       "4            7F08       2                 6                19   \n",
       "\n",
       "   us_viewers_in_millions    views  imdb_rating  imdb_votes  \\\n",
       "0                    30.3  50816.0          7.4      1511.0   \n",
       "1                    30.4  62561.0          8.3      1716.0   \n",
       "2                    33.6  59575.0          8.2      1638.0   \n",
       "3                    26.1  64959.0          8.1      1457.0   \n",
       "4                    25.4  50691.0          8.0      1366.0   \n",
       "\n",
       "                                           image_url  \\\n",
       "0  http://static-media.fxx.com/img/FX_Networks_-_...   \n",
       "1  http://static-media.fxx.com/img/FX_Networks_-_...   \n",
       "2  http://static-media.fxx.com/img/FX_Networks_-_...   \n",
       "3  http://static-media.fxx.com/img/FX_Networks_-_...   \n",
       "4  http://static-media.fxx.com/img/FX_Networks_-_...   \n",
       "\n",
       "                                         video_url  \n",
       "0  http://www.simpsonsworld.com/video/275197507879  \n",
       "1  http://www.simpsonsworld.com/video/288019523914  \n",
       "2  http://www.simpsonsworld.com/video/260539459671  \n",
       "3  http://www.simpsonsworld.com/video/260537411822  \n",
       "4  http://www.simpsonsworld.com/video/260539459670  "
      ]
     },
     "execution_count": 3,
     "metadata": {},
     "output_type": "execute_result"
    }
   ],
   "source": [
    "print(df.shape)\n",
    "df.head()"
   ]
  },
  {
   "cell_type": "code",
   "execution_count": 5,
   "metadata": {},
   "outputs": [
    {
     "name": "stderr",
     "output_type": "stream",
     "text": [
      "/anaconda3/lib/python3.6/site-packages/numpy/lib/histograms.py:824: RuntimeWarning: invalid value encountered in greater_equal\n",
      "  keep = (tmp_a >= first_edge)\n",
      "/anaconda3/lib/python3.6/site-packages/numpy/lib/histograms.py:825: RuntimeWarning: invalid value encountered in less_equal\n",
      "  keep &= (tmp_a <= last_edge)\n"
     ]
    },
    {
     "data": {
      "image/png": "[encoded data removed]",
      "text/plain": [
       "<Figure size 864x576 with 1 Axes>"
      ]
     },
     "metadata": {
      "needs_background": "light"
     },
     "output_type": "display_data"
    }
   ],
   "source": [
    "fig = plt.figure(figsize=(12,8))\n",
    "plt.hist(df.us_viewers_in_millions, bins=30, density=True, color='lightblue', rwidth=0.9)\n",
    "df.us_viewers_in_millions.plot.kde(color='gold', linewidth=5)\n",
    "plt.xlim([0,35])\n",
    "plt.xlabel('Millions of viewers', fontsize=14)\n",
    "plt.ylabel('Density', fontsize=14)\n",
    "plt.title('Number of viewers for 600 Simpsons episodes (in millions)', fontsize=16)\n",
    "plt.savefig('./plots/histogram.png', bbox_inches='tight')\n",
    "plt.show()"
   ]
  },
  {
   "cell_type": "code",
   "execution_count": 119,
   "metadata": {},
   "outputs": [
    {
     "data": {
      "text/plain": [
       "1200"
      ]
     },
     "execution_count": 119,
     "metadata": {},
     "output_type": "execute_result"
    }
   ],
   "source": [
    "len(list(df2.value)+list(df2.value))"
   ]
  },
  {
   "cell_type": "code",
   "execution_count": 142,
   "metadata": {},
   "outputs": [],
   "source": [
    "df1 = df[['id', 'imdb_rating', 'title', 'season']].sort_values('id').reset_index(drop=True)\n",
    "df1.columns = ['episode','value', 'title', 'Season']\n",
    "\n",
    "df2 = df[['id', 'us_viewers_in_millions', 'title', 'season']].sort_values('id').reset_index(drop=True)\n",
    "df2.columns = ['episode','value', 'title', 'Season']\n",
    "\n",
    "df3 = pd.concat([df1, df2])\n",
    "df3.loc[:,'Category'] = ['IMDB Rating']*600 + ['US Viewers (millions)']*600\n",
    "df3.loc[:,'IMDB Rating'] = list(df1['value'])+list(df1['value'])\n",
    "df3.loc[:,'US Viewers'] = list(df2['value']) + list(df2['value'])\n",
    "df3 = df3.sort_values(['episode', 'Category'])"
   ]
  },
  {
   "cell_type": "code",
   "execution_count": 143,
   "metadata": {},
   "outputs": [
    {
     "name": "stdout",
     "output_type": "stream",
     "text": [
      "(1200, 7)\n"
     ]
    },
    {
     "data": {
      "text/html": [
       "<div>\n",
       "<style scoped>\n",
       "    .dataframe tbody tr th:only-of-type {\n",
       "        vertical-align: middle;\n",
       "    }\n",
       "\n",
       "    .dataframe tbody tr th {\n",
       "        vertical-align: top;\n",
       "    }\n",
       "\n",
       "    .dataframe thead th {\n",
       "        text-align: right;\n",
       "    }\n",
       "</style>\n",
       "<table border=\"1\" class=\"dataframe\">\n",
       "  <thead>\n",
       "    <tr style=\"text-align: right;\">\n",
       "      <th></th>\n",
       "      <th>episode</th>\n",
       "      <th>value</th>\n",
       "      <th>title</th>\n",
       "      <th>Season</th>\n",
       "      <th>Category</th>\n",
       "      <th>IMDB Rating</th>\n",
       "      <th>US Viewers</th>\n",
       "    </tr>\n",
       "  </thead>\n",
       "  <tbody>\n",
       "    <tr>\n",
       "      <th>0</th>\n",
       "      <td>1</td>\n",
       "      <td>8.2</td>\n",
       "      <td>Simpsons Roasting on an Open Fire</td>\n",
       "      <td>1</td>\n",
       "      <td>IMDB Rating</td>\n",
       "      <td>8.2</td>\n",
       "      <td>26.7</td>\n",
       "    </tr>\n",
       "    <tr>\n",
       "      <th>0</th>\n",
       "      <td>1</td>\n",
       "      <td>26.7</td>\n",
       "      <td>Simpsons Roasting on an Open Fire</td>\n",
       "      <td>1</td>\n",
       "      <td>US Viewers (millions)</td>\n",
       "      <td>8.2</td>\n",
       "      <td>26.7</td>\n",
       "    </tr>\n",
       "    <tr>\n",
       "      <th>1</th>\n",
       "      <td>2</td>\n",
       "      <td>7.8</td>\n",
       "      <td>Bart the Genius</td>\n",
       "      <td>1</td>\n",
       "      <td>IMDB Rating</td>\n",
       "      <td>7.8</td>\n",
       "      <td>24.5</td>\n",
       "    </tr>\n",
       "    <tr>\n",
       "      <th>1</th>\n",
       "      <td>2</td>\n",
       "      <td>24.5</td>\n",
       "      <td>Bart the Genius</td>\n",
       "      <td>1</td>\n",
       "      <td>US Viewers (millions)</td>\n",
       "      <td>7.8</td>\n",
       "      <td>24.5</td>\n",
       "    </tr>\n",
       "    <tr>\n",
       "      <th>2</th>\n",
       "      <td>3</td>\n",
       "      <td>7.5</td>\n",
       "      <td>Homer's Odyssey</td>\n",
       "      <td>1</td>\n",
       "      <td>IMDB Rating</td>\n",
       "      <td>7.5</td>\n",
       "      <td>27.5</td>\n",
       "    </tr>\n",
       "  </tbody>\n",
       "</table>\n",
       "</div>"
      ],
      "text/plain": [
       "   episode  value                              title  Season  \\\n",
       "0        1    8.2  Simpsons Roasting on an Open Fire       1   \n",
       "0        1   26.7  Simpsons Roasting on an Open Fire       1   \n",
       "1        2    7.8                    Bart the Genius       1   \n",
       "1        2   24.5                    Bart the Genius       1   \n",
       "2        3    7.5                    Homer's Odyssey       1   \n",
       "\n",
       "                Category  IMDB Rating  US Viewers  \n",
       "0            IMDB Rating          8.2        26.7  \n",
       "0  US Viewers (millions)          8.2        26.7  \n",
       "1            IMDB Rating          7.8        24.5  \n",
       "1  US Viewers (millions)          7.8        24.5  \n",
       "2            IMDB Rating          7.5        27.5  "
      ]
     },
     "execution_count": 143,
     "metadata": {},
     "output_type": "execute_result"
    }
   ],
   "source": [
    "print(df3.shape)\n",
    "df3.head()"
   ]
  },
  {
   "cell_type": "code",
   "execution_count": 144,
   "metadata": {},
   "outputs": [
    {
     "data": {
      "text/plain": [
       "RendererRegistry.enable('notebook')"
      ]
     },
     "execution_count": 144,
     "metadata": {},
     "output_type": "execute_result"
    }
   ],
   "source": [
    "alt.renderers.enable('notebook')"
   ]
  },
  {
   "cell_type": "code",
   "execution_count": 147,
   "metadata": {},
   "outputs": [],
   "source": [
    "source = df3\n",
    "\n",
    "alt.Chart(source).mark_area().encode(\n",
    "    x='episode:O',\n",
    "    y=alt.Y('value:Q', stack='zero', sort='ascending'),\n",
    "    order='Category',\n",
    "    color='Category:N',\n",
    "    tooltip=['title', 'Season', 'IMDB Rating', 'US Viewers'],\n",
    ").interactive()\\\n",
    ".save('./plots/stream.html')"
   ]
  },
  {
   "cell_type": "code",
   "execution_count": null,
   "metadata": {},
   "outputs": [],
   "source": []
  }
 ],
 "metadata": {
  "kernelspec": {
   "display_name": "Python 3",
   "language": "python",
   "name": "python3"
  },
  "language_info": {
   "codemirror_mode": {
    "name": "ipython",
    "version": 3
   },
   "file_extension": ".py",
   "mimetype": "text/x-python",
   "name": "python",
   "nbconvert_exporter": "python",
   "pygments_lexer": "ipython3",
   "version": "3.6.8"
  }
 },
 "nbformat": 4,
 "nbformat_minor": 2
}
