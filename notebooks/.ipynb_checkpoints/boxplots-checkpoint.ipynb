{
 "cells": [
  {
   "cell_type": "code",
   "execution_count": 1,
   "metadata": {},
   "outputs": [],
   "source": [
    "import pandas as pd\n",
    "import numpy as np\n",
    "import matplotlib.pyplot as plt\n",
    "import seaborn as sns"
   ]
  },
  {
   "cell_type": "code",
   "execution_count": 8,
   "metadata": {},
   "outputs": [],
   "source": [
    "def load_scripts():\n",
    "    df1 = pd.read_csv('../data/simpsons_script_lines.csv', error_bad_lines=False)\\\n",
    "        .sort_values(['episode_id', 'timestamp_in_ms'])\\\n",
    "        .reset_index()\n",
    "    \n",
    "    df2 = pd.read_csv('../data/simpsons_episodes.csv', error_bad_lines=False)[['id', 'season']]\n",
    "    df2.columns = ['episode_id', 'season']\n",
    "\n",
    "    df3 = pd.merge(df1, df2, how='left', on='episode_id')\n",
    "    \n",
    "    return df3\n",
    "\n",
    "\n",
    "def get_top(df, n_characters):\n",
    "    # get top characters by line count\n",
    "    cts = df.raw_character_text.value_counts()\n",
    "    top = list(cts[:n_characters].index)\n",
    "    return top\n",
    "\n",
    "\n",
    "def longest_line(df, character):\n",
    "    return list(df[np.where(df.raw_character_text==character, True, False)]\\\n",
    "        .sort_values('word_count', ascending=False)['spoken_words'])[0]"
   ]
  },
  {
   "cell_type": "code",
   "execution_count": 9,
   "metadata": {},
   "outputs": [
    {
     "name": "stderr",
     "output_type": "stream",
     "text": [
      "b'Skipping line 8084: expected 13 fields, saw 20\\nSkipping line 52607: expected 13 fields, saw 21\\nSkipping line 59910: expected 13 fields, saw 21\\n'\n",
      "b'Skipping line 71801: expected 13 fields, saw 20\\nSkipping line 73539: expected 13 fields, saw 21\\nSkipping line 77230: expected 13 fields, saw 21\\nSkipping line 78953: expected 13 fields, saw 21\\nSkipping line 81138: expected 13 fields, saw 20\\nSkipping line 86746: expected 13 fields, saw 22\\nSkipping line 101154: expected 13 fields, saw 21\\nSkipping line 115438: expected 13 fields, saw 20\\nSkipping line 117573: expected 13 fields, saw 22\\nSkipping line 130610: expected 13 fields, saw 22\\n'\n",
      "b'Skipping line 152970: expected 13 fields, saw 22\\nSkipping line 153017: expected 13 fields, saw 20\\nSkipping line 153018: expected 13 fields, saw 30\\nSkipping line 154080: expected 13 fields, saw 20\\nSkipping line 154082: expected 13 fields, saw 20\\nSkipping line 154084: expected 13 fields, saw 20\\nSkipping line 154086: expected 13 fields, saw 20\\nSkipping line 154089: expected 13 fields, saw 23\\nSkipping line 154165: expected 13 fields, saw 21\\nSkipping line 156872: expected 13 fields, saw 20\\n'\n"
     ]
    }
   ],
   "source": [
    "df = load_scripts()"
   ]
  },
  {
   "cell_type": "code",
   "execution_count": 10,
   "metadata": {},
   "outputs": [
    {
     "name": "stdout",
     "output_type": "stream",
     "text": [
      "(158248, 15)\n"
     ]
    },
    {
     "data": {
      "text/html": [
       "<div>\n",
       "<style scoped>\n",
       "    .dataframe tbody tr th:only-of-type {\n",
       "        vertical-align: middle;\n",
       "    }\n",
       "\n",
       "    .dataframe tbody tr th {\n",
       "        vertical-align: top;\n",
       "    }\n",
       "\n",
       "    .dataframe thead th {\n",
       "        text-align: right;\n",
       "    }\n",
       "</style>\n",
       "<table border=\"1\" class=\"dataframe\">\n",
       "  <thead>\n",
       "    <tr style=\"text-align: right;\">\n",
       "      <th></th>\n",
       "      <th>index</th>\n",
       "      <th>id</th>\n",
       "      <th>episode_id</th>\n",
       "      <th>number</th>\n",
       "      <th>raw_text</th>\n",
       "      <th>timestamp_in_ms</th>\n",
       "      <th>speaking_line</th>\n",
       "      <th>character_id</th>\n",
       "      <th>location_id</th>\n",
       "      <th>raw_character_text</th>\n",
       "      <th>raw_location_text</th>\n",
       "      <th>spoken_words</th>\n",
       "      <th>normalized_text</th>\n",
       "      <th>word_count</th>\n",
       "      <th>season</th>\n",
       "    </tr>\n",
       "  </thead>\n",
       "  <tbody>\n",
       "    <tr>\n",
       "      <th>0</th>\n",
       "      <td>148751</td>\n",
       "      <td>4</td>\n",
       "      <td>1</td>\n",
       "      <td>3</td>\n",
       "      <td>Homer Simpson: There's no time to be careful.</td>\n",
       "      <td>10000</td>\n",
       "      <td>true</td>\n",
       "      <td>2</td>\n",
       "      <td>2.0</td>\n",
       "      <td>Homer Simpson</td>\n",
       "      <td>Car</td>\n",
       "      <td>There's no time to be careful.</td>\n",
       "      <td>theres no time to be careful</td>\n",
       "      <td>6.0</td>\n",
       "      <td>1</td>\n",
       "    </tr>\n",
       "    <tr>\n",
       "      <th>1</th>\n",
       "      <td>148752</td>\n",
       "      <td>5</td>\n",
       "      <td>1</td>\n",
       "      <td>4</td>\n",
       "      <td>Homer Simpson: We're late.</td>\n",
       "      <td>10000</td>\n",
       "      <td>true</td>\n",
       "      <td>2</td>\n",
       "      <td>2.0</td>\n",
       "      <td>Homer Simpson</td>\n",
       "      <td>Car</td>\n",
       "      <td>We're late.</td>\n",
       "      <td>were late</td>\n",
       "      <td>2.0</td>\n",
       "      <td>1</td>\n",
       "    </tr>\n",
       "    <tr>\n",
       "      <th>2</th>\n",
       "      <td>149014</td>\n",
       "      <td>263</td>\n",
       "      <td>1</td>\n",
       "      <td>262</td>\n",
       "      <td>Homer Simpson: Who's Tiny Tim?</td>\n",
       "      <td>1001000</td>\n",
       "      <td>true</td>\n",
       "      <td>2</td>\n",
       "      <td>19.0</td>\n",
       "      <td>Homer Simpson</td>\n",
       "      <td>PERSONNEL OFFICE</td>\n",
       "      <td>Who's Tiny Tim?</td>\n",
       "      <td>whos tiny tim</td>\n",
       "      <td>3.0</td>\n",
       "      <td>1</td>\n",
       "    </tr>\n",
       "    <tr>\n",
       "      <th>3</th>\n",
       "      <td>149015</td>\n",
       "      <td>264</td>\n",
       "      <td>1</td>\n",
       "      <td>263</td>\n",
       "      <td>(Simpson Home: int. simpson house - night)</td>\n",
       "      <td>1006000</td>\n",
       "      <td>false</td>\n",
       "      <td>NaN</td>\n",
       "      <td>5.0</td>\n",
       "      <td>NaN</td>\n",
       "      <td>Simpson Home</td>\n",
       "      <td>NaN</td>\n",
       "      <td>NaN</td>\n",
       "      <td>NaN</td>\n",
       "      <td>1</td>\n",
       "    </tr>\n",
       "    <tr>\n",
       "      <th>4</th>\n",
       "      <td>149016</td>\n",
       "      <td>265</td>\n",
       "      <td>1</td>\n",
       "      <td>264</td>\n",
       "      <td>Bubbles: (FROM TV) Hey, Moldy, do you think Sa...</td>\n",
       "      <td>1006000</td>\n",
       "      <td>true</td>\n",
       "      <td>29</td>\n",
       "      <td>5.0</td>\n",
       "      <td>Bubbles</td>\n",
       "      <td>Simpson Home</td>\n",
       "      <td>Hey, Moldy, do you think Santa will be able to...</td>\n",
       "      <td>hey moldy do you think santa will be able to f...</td>\n",
       "      <td>17.0</td>\n",
       "      <td>1</td>\n",
       "    </tr>\n",
       "  </tbody>\n",
       "</table>\n",
       "</div>"
      ],
      "text/plain": [
       "    index   id  episode_id  number  \\\n",
       "0  148751    4           1       3   \n",
       "1  148752    5           1       4   \n",
       "2  149014  263           1     262   \n",
       "3  149015  264           1     263   \n",
       "4  149016  265           1     264   \n",
       "\n",
       "                                            raw_text timestamp_in_ms  \\\n",
       "0      Homer Simpson: There's no time to be careful.           10000   \n",
       "1                         Homer Simpson: We're late.           10000   \n",
       "2                     Homer Simpson: Who's Tiny Tim?         1001000   \n",
       "3         (Simpson Home: int. simpson house - night)         1006000   \n",
       "4  Bubbles: (FROM TV) Hey, Moldy, do you think Sa...         1006000   \n",
       "\n",
       "  speaking_line character_id  location_id raw_character_text  \\\n",
       "0          true            2          2.0      Homer Simpson   \n",
       "1          true            2          2.0      Homer Simpson   \n",
       "2          true            2         19.0      Homer Simpson   \n",
       "3         false          NaN          5.0                NaN   \n",
       "4          true           29          5.0            Bubbles   \n",
       "\n",
       "  raw_location_text                                       spoken_words  \\\n",
       "0               Car                     There's no time to be careful.   \n",
       "1               Car                                        We're late.   \n",
       "2  PERSONNEL OFFICE                                    Who's Tiny Tim?   \n",
       "3      Simpson Home                                                NaN   \n",
       "4      Simpson Home  Hey, Moldy, do you think Santa will be able to...   \n",
       "\n",
       "                                     normalized_text  word_count  season  \n",
       "0                       theres no time to be careful         6.0       1  \n",
       "1                                          were late         2.0       1  \n",
       "2                                      whos tiny tim         3.0       1  \n",
       "3                                                NaN         NaN       1  \n",
       "4  hey moldy do you think santa will be able to f...        17.0       1  "
      ]
     },
     "execution_count": 10,
     "metadata": {},
     "output_type": "execute_result"
    }
   ],
   "source": [
    "print(df.shape)\n",
    "df.head()"
   ]
  },
  {
   "cell_type": "code",
   "execution_count": 11,
   "metadata": {},
   "outputs": [
    {
     "data": {
      "text/plain": [
       "['Homer Simpson',\n",
       " 'Marge Simpson',\n",
       " 'Bart Simpson',\n",
       " 'Lisa Simpson',\n",
       " 'C. Montgomery Burns',\n",
       " 'Moe Szyslak',\n",
       " 'Seymour Skinner',\n",
       " 'Ned Flanders',\n",
       " 'Grampa Simpson',\n",
       " 'Milhouse Van Houten',\n",
       " 'Chief Wiggum',\n",
       " 'Krusty the Clown',\n",
       " 'Nelson Muntz',\n",
       " 'Lenny Leonard',\n",
       " 'Apu Nahasapeemapetilon',\n",
       " 'Waylon Smithers',\n",
       " 'Kent Brockman',\n",
       " 'Carl Carlson',\n",
       " 'Edna Krabappel-Flanders',\n",
       " 'Dr. Julius Hibbert']"
      ]
     },
     "execution_count": 11,
     "metadata": {},
     "output_type": "execute_result"
    }
   ],
   "source": [
    "N = 20\n",
    "get_top(df,N)"
   ]
  },
  {
   "cell_type": "code",
   "execution_count": 12,
   "metadata": {},
   "outputs": [
    {
     "data": {
      "text/plain": [
       "'One trick is to tell them stories that don\\'t go anywhere... Like the time I caught the ferry over to Shelbyville. I needed a new heel for my shoe, so I decided to go to Morganville, which is what they called Shelbyville in those days. So I tied an onion to my belt, which was the style at the time... now to take the ferry cost a nickel, and in those days nickels had pictures of bumblebees on them. \"Give me five bees for a quarter\" you\\'d say. Now, where were we? Oh yes, the important thing was that I had an onion on my belt, which was the style at the time. They didn\\'t have white onions, because of the war...'"
      ]
     },
     "execution_count": 12,
     "metadata": {},
     "output_type": "execute_result"
    }
   ],
   "source": [
    "longest_line(df, 'Grampa Simpson')"
   ]
  },
  {
   "cell_type": "code",
   "execution_count": 13,
   "metadata": {},
   "outputs": [],
   "source": [
    "df_word_count = df[np.where(df.raw_character_text.isin(get_top(df,100)), True, False)]\\\n",
    "    .groupby('raw_character_text')\\\n",
    "    .agg({'word_count' : ['max', 'count','median']})\n",
    "df_word_count.columns = ['max', 'count', 'med']\n",
    "df_word_count.reset_index(inplace=True)\n",
    "df_word_count = df_word_count.sort_values('max', ascending=False)[:N]\n",
    "df_word_count = df_word_count.sort_values('count', ascending=False)"
   ]
  },
  {
   "cell_type": "code",
   "execution_count": 14,
   "metadata": {},
   "outputs": [
    {
     "data": {
      "text/html": [
       "<div>\n",
       "<style scoped>\n",
       "    .dataframe tbody tr th:only-of-type {\n",
       "        vertical-align: middle;\n",
       "    }\n",
       "\n",
       "    .dataframe tbody tr th {\n",
       "        vertical-align: top;\n",
       "    }\n",
       "\n",
       "    .dataframe thead th {\n",
       "        text-align: right;\n",
       "    }\n",
       "</style>\n",
       "<table border=\"1\" class=\"dataframe\">\n",
       "  <thead>\n",
       "    <tr style=\"text-align: right;\">\n",
       "      <th></th>\n",
       "      <th>raw_character_text</th>\n",
       "      <th>max</th>\n",
       "      <th>count</th>\n",
       "      <th>med</th>\n",
       "    </tr>\n",
       "  </thead>\n",
       "  <tbody>\n",
       "    <tr>\n",
       "      <th>36</th>\n",
       "      <td>Homer Simpson</td>\n",
       "      <td>114.0</td>\n",
       "      <td>27909</td>\n",
       "      <td>8.0</td>\n",
       "    </tr>\n",
       "    <tr>\n",
       "      <th>62</th>\n",
       "      <td>Marge Simpson</td>\n",
       "      <td>87.0</td>\n",
       "      <td>13191</td>\n",
       "      <td>8.0</td>\n",
       "    </tr>\n",
       "    <tr>\n",
       "      <th>9</th>\n",
       "      <td>Bart Simpson</td>\n",
       "      <td>74.0</td>\n",
       "      <td>13012</td>\n",
       "      <td>7.0</td>\n",
       "    </tr>\n",
       "    <tr>\n",
       "      <th>53</th>\n",
       "      <td>Lisa Simpson</td>\n",
       "      <td>75.0</td>\n",
       "      <td>10767</td>\n",
       "      <td>7.0</td>\n",
       "    </tr>\n",
       "    <tr>\n",
       "      <th>12</th>\n",
       "      <td>C. Montgomery Burns</td>\n",
       "      <td>91.0</td>\n",
       "      <td>3087</td>\n",
       "      <td>9.0</td>\n",
       "    </tr>\n",
       "  </tbody>\n",
       "</table>\n",
       "</div>"
      ],
      "text/plain": [
       "     raw_character_text    max  count  med\n",
       "36        Homer Simpson  114.0  27909  8.0\n",
       "62        Marge Simpson   87.0  13191  8.0\n",
       "9          Bart Simpson   74.0  13012  7.0\n",
       "53         Lisa Simpson   75.0  10767  7.0\n",
       "12  C. Montgomery Burns   91.0   3087  9.0"
      ]
     },
     "execution_count": 14,
     "metadata": {},
     "output_type": "execute_result"
    }
   ],
   "source": [
    "df_word_count.head()"
   ]
  },
  {
   "cell_type": "code",
   "execution_count": 15,
   "metadata": {},
   "outputs": [],
   "source": [
    "df_for_plot = df[np.where(df.raw_character_text.isin(df_word_count.raw_character_text), True, False)]"
   ]
  },
  {
   "cell_type": "code",
   "execution_count": 17,
   "metadata": {},
   "outputs": [
    {
     "data": {
      "image/png": "[encoded data removed]",
      "text/plain": [
       "<Figure size 720x720 with 1 Axes>"
      ]
     },
     "metadata": {
      "needs_background": "light"
     },
     "output_type": "display_data"
    }
   ],
   "source": [
    "not_top = list(set(df_word_count.raw_character_text.values) - set(get_top(df,30)))\n",
    "palette = {}\n",
    "for char in df_word_count.raw_character_text:\n",
    "    if char in not_top:\n",
    "        palette[char] = 'yellow'\n",
    "    else:\n",
    "        palette[char] = 'tab:blue'\n",
    "\n",
    "fig = plt.figure(figsize=(10,10))\n",
    "ax = sns.boxplot(\n",
    "    x=df_for_plot['word_count'],\n",
    "    y=df_for_plot.raw_character_text,\n",
    "    order=df_word_count.sort_values('med', ascending=False).raw_character_text,\n",
    "#     palette=palette\n",
    ")\n",
    "\n",
    "ax.spines['top'].set_visible(False)\n",
    "ax.spines['right'].set_visible(False)\n",
    "ax.spines['bottom'].set_visible(False)\n",
    "ax.spines['left'].set_visible(False)\n",
    "plt.xticks(list(range(0,121,10)), fontsize=12)\n",
    "plt.yticks(fontsize=12)\n",
    "plt.xlabel(f'\\nNumber of words in each line', fontsize=14)\n",
    "plt.ylabel('Character', fontsize=14)\n",
    "plt.title('Which Simpsons characters have the most to say?\\n', fontsize=16)\n",
    "plt.savefig('../plots/box_plot.png', bbox_inches='tight')\n",
    "plt.show()"
   ]
  },
  {
   "cell_type": "code",
   "execution_count": null,
   "metadata": {},
   "outputs": [],
   "source": []
  }
 ],
 "metadata": {
  "kernelspec": {
   "display_name": "Python 3",
   "language": "python",
   "name": "python3"
  },
  "language_info": {
   "codemirror_mode": {
    "name": "ipython",
    "version": 3
   },
   "file_extension": ".py",
   "mimetype": "text/x-python",
   "name": "python",
   "nbconvert_exporter": "python",
   "pygments_lexer": "ipython3",
   "version": "3.6.8"
  }
 },
 "nbformat": 4,
 "nbformat_minor": 2
}
